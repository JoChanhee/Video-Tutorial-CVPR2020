{
 "cells": [
  {
   "cell_type": "code",
   "execution_count": null,
   "metadata": {},
   "outputs": [],
   "source": [
    "%matplotlib inline"
   ]
  },
  {
   "cell_type": "markdown",
   "metadata": {},
   "source": [
    "GluonCV C++ Inference Demo\n",
    "================================\n",
    "\n",
    "This is a demo tutorial which illustrates how to use existing GluonCV\n",
    "models in c++ environments given exported JSON and PARAMS files.\n",
    "\n",
    "Please checkout `export_network` for instructions of how to export pre-trained models.\n",
    "\n",
    "Demo usage\n",
    "----------\n",
    "\n",
    "```bash\n",
    "\n",
    "# with yolo3_darknet53_voc-0000.params and yolo3_darknet53-symbol.json on disk\n",
    "./gluoncv-detect yolo3_darknet53_voc demo.jpg\n",
    "```\n",
    "\n",
    "![demo](https://user-images.githubusercontent.com/3307514/45458507-d76ff600-b6a8-11e8-92e1-0b1966e4344f.jpg)\n",
    "\n",
    "```bash\n",
    "Usage:\n",
    "\n",
    "::\n",
    "\n",
    "   SYNOPSIS\n",
    "           ./gluoncv-detect <model file> <image file> [-o <outfile>] [--class-file <classfile>] [-e\n",
    "                            <epoch>] [--gpu <gpu>] [-q] [--no-disp] [-t <thresh>]\n",
    "\n",
    "   OPTIONS\n",
    "           -o, --output <outfile>\n",
    "                       output image, by default no output\n",
    "\n",
    "           --class-file <classfile>\n",
    "                       plain text file for class names, one name per line\n",
    "\n",
    "           -e, --epoch <epoch>\n",
    "                       Epoch number to load parameters, by default is 0\n",
    "\n",
    "           --gpu <gpu> Which gpu to use, by default is -1, means cpu only.\n",
    "           -q, --quite Quite mode, no screen output\n",
    "           --no-disp   Do not display image\n",
    "           -t, --thresh <thresh>\n",
    "                       Visualize threshold, from 0 to 1, default 0.3.\n",
    "```\n",
    "\n",
    "Source Code and Build Instructions\n",
    "----------------------------------\n",
    "\n",
    "The C++ demo code and build instructions are available in our repository [scripts]\n",
    "(https://github.com/dmlc/gluon-cv/tree/master/scripts/deployment/cpp-inference).\n"
   ]
  },
  {
   "cell_type": "code",
   "execution_count": null,
   "metadata": {},
   "outputs": [],
   "source": []
  }
 ],
 "metadata": {
  "kernelspec": {
   "display_name": "conda_mxnet_p36",
   "language": "python",
   "name": "conda_mxnet_p36"
  },
  "language_info": {
   "codemirror_mode": {
    "name": "ipython",
    "version": 3
   },
   "file_extension": ".py",
   "mimetype": "text/x-python",
   "name": "python",
   "nbconvert_exporter": "python",
   "pygments_lexer": "ipython3",
   "version": "3.6.5"
  }
 },
 "nbformat": 4,
 "nbformat_minor": 1
}
