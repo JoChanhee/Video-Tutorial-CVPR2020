{
 "cells": [
  {
   "cell_type": "code",
   "execution_count": 1,
   "metadata": {},
   "outputs": [],
   "source": [
    "%matplotlib inline"
   ]
  },
  {
   "cell_type": "markdown",
   "metadata": {},
   "source": [
    "Export trained GluonCV network to JSON\n",
    "============================================\n",
    "\n",
    "It is awesome if you are enjoy using GluonCV in Python for training and testing.\n",
    "At some point, you might ask: \"Is it possible to deploy the existing models to somewhere out of Python environments?\"\n",
    "\n",
    "The answer is \"Absolutely!\", and it's super easy actually.\n",
    "\n",
    "This article will show you how to export networks/models to be used somewhere other than Python.\n",
    "\n",
    "\n"
   ]
  },
  {
   "cell_type": "code",
   "execution_count": 2,
   "metadata": {},
   "outputs": [],
   "source": [
    "import gluoncv as gcv\n",
    "from gluoncv.utils import export_block"
   ]
  },
  {
   "cell_type": "markdown",
   "metadata": {},
   "source": [
    "First of all, we need a network to play with, a pre-trained one is perfect\n",
    "\n"
   ]
  },
  {
   "cell_type": "code",
   "execution_count": 3,
   "metadata": {},
   "outputs": [
    {
     "name": "stdout",
     "output_type": "stream",
     "text": [
      "Done.\n"
     ]
    }
   ],
   "source": [
    "net = gcv.model_zoo.get_model('resnet18_v1', pretrained=True)\n",
    "export_block('resnet18_v1', net, preprocess=True, layout='HWC')\n",
    "print('Done.')"
   ]
  },
  {
   "cell_type": "markdown",
   "metadata": {},
   "source": [
    ".. hint::\n",
    "\n",
    "      Use ``preprocess=True`` will add a default preprocess layer above the network,\n",
    "      which will subtract mean [123.675, 116.28, 103.53], divide\n",
    "      std [58.395, 57.12, 57.375], and convert original image (B, H, W, C and range [0, 255]) to\n",
    "      tensor (B, C, H, W) as network input. This is the default preprocess behavior of all GluonCV\n",
    "      pre-trained models. With this preprocess head, you can use raw RGB image in C++ without\n",
    "      explicitly applying these operations.\n",
    "\n"
   ]
  },
  {
   "cell_type": "markdown",
   "metadata": {},
   "source": [
    "The above code generates two files: xxxx.json and xxxx.params\n",
    "\n"
   ]
  },
  {
   "cell_type": "code",
   "execution_count": 4,
   "metadata": {},
   "outputs": [
    {
     "name": "stdout",
     "output_type": "stream",
     "text": [
      "['resnet18_v1-symbol.json', 'deploy_graph.json', 'resnet18_v1-0000.params', 'deploy_param.params']\n"
     ]
    }
   ],
   "source": [
    "import glob\n",
    "print(glob.glob('*.json') + glob.glob('*.params'))"
   ]
  },
  {
   "cell_type": "markdown",
   "metadata": {},
   "source": [
    "JSON file includes computational graph and params file includes pre-trained weights.\n",
    "\n"
   ]
  },
  {
   "cell_type": "markdown",
   "metadata": {},
   "source": [
    "The exportable networks are not limited to image classification models.\n",
    "We can export detection and segmentation networks as well:\n",
    "\n"
   ]
  },
  {
   "cell_type": "code",
   "execution_count": 5,
   "metadata": {},
   "outputs": [
    {
     "name": "stdout",
     "output_type": "stream",
     "text": [
      "Model file is not found. Downloading.\n",
      "Downloading /home/ec2-user/.mxnet/models/yolo3_darknet53_coco-09767802.zip from https://apache-mxnet.s3-accelerate.dualstack.amazonaws.com/gluon/models/yolo3_darknet53_coco-09767802.zip...\n"
     ]
    },
    {
     "name": "stderr",
     "output_type": "stream",
     "text": [
      "100%|██████████| 224190/224190 [00:03<00:00, 59277.26KB/s]\n"
     ]
    },
    {
     "name": "stdout",
     "output_type": "stream",
     "text": [
      "Model file is not found. Downloading.\n",
      "Downloading /home/ec2-user/.mxnet/models/mask_rcnn_resnet50_v1b_coco-a3527fdc.zip from https://apache-mxnet.s3-accelerate.dualstack.amazonaws.com/gluon/models/mask_rcnn_resnet50_v1b_coco-a3527fdc.zip...\n"
     ]
    },
    {
     "name": "stderr",
     "output_type": "stream",
     "text": [
      "100%|██████████| 131497/131497 [00:02<00:00, 61150.66KB/s]\n"
     ]
    }
   ],
   "source": [
    "# YOLO\n",
    "net = gcv.model_zoo.get_model('yolo3_darknet53_coco', pretrained=True)\n",
    "export_block('yolo3_darknet53_coco', net)\n",
    "\n",
    "# FCN\n",
    "net = gcv.model_zoo.get_model('fcn_resnet50_ade', pretrained=True)\n",
    "export_block('fcn_resnet50_ade', net)\n",
    "\n",
    "# MaskRCNN\n",
    "net = gcv.model_zoo.get_model('mask_rcnn_resnet50_v1b_coco', pretrained=True)\n",
    "export_block('mask_rcnn_resnet50_v1b_coco', net)"
   ]
  },
  {
   "cell_type": "markdown",
   "metadata": {},
   "source": [
    "We are all set here. Please checkout the other tutorials of how to use the JSON and params files.\n",
    "\n"
   ]
  }
 ],
 "metadata": {
  "kernelspec": {
   "display_name": "conda_mxnet_p36",
   "language": "python",
   "name": "conda_mxnet_p36"
  },
  "language_info": {
   "codemirror_mode": {
    "name": "ipython",
    "version": 3
   },
   "file_extension": ".py",
   "mimetype": "text/x-python",
   "name": "python",
   "nbconvert_exporter": "python",
   "pygments_lexer": "ipython3",
   "version": "3.6.5"
  }
 },
 "nbformat": 4,
 "nbformat_minor": 1
}
