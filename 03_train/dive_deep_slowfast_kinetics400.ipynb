{
  "cells": [
    {
      "cell_type": "code",
      "execution_count": null,
      "metadata": {
        "collapsed": false
      },
      "outputs": [],
      "source": [
        "%matplotlib inline"
      ]
    },
    {
      "cell_type": "markdown",
      "metadata": {},
      "source": [
        "6. Dive Deep into Training SlowFast mdoels on Kinetcis400\n============================================================\n\nThis is a video action recognition tutorial using Gluon CV toolkit, a step-by-step example.\nThe readers should have basic knowledge of deep learning and should be familiar with Gluon API.\nNew users may first go through `A 60-minute Gluon Crash Course <http://gluon-crash-course.mxnet.io/>`_.\nYou can `Start Training Now`_ or `Dive into Deep`_.\n\nStart Training Now\n~~~~~~~~~~~~~~~~~~\n\n<div class=\"alert alert-info\"><h4>Note</h4><p>Feel free to skip the tutorial because the training script is self-complete and ready to launch.\n\n    :download:`Download Full Python Script: train_recognizer.py<../../../scripts/action-recognition/train_recognizer.py>`\n\n    For more training command options, please run ``python train_recognizer.py -h``\n    Please checkout the `model_zoo <../model_zoo/index.html#action_recognition>`_ for training commands of reproducing the pretrained model.</p></div>\n\n\nNetwork Structure\n-----------------\n\nFirst, let's import the necessary libraries into python.\n"
      ]
    },
    {
      "cell_type": "code",
      "execution_count": null,
      "metadata": {
        "collapsed": false
      },
      "outputs": [],
      "source": [
        "from __future__ import division\n\nimport argparse, time, logging, os, sys, math\n\nimport numpy as np\nimport mxnet as mx\nimport gluoncv as gcv\nfrom mxnet import gluon, nd, init, context\nfrom mxnet import autograd as ag\nfrom mxnet.gluon import nn\nfrom mxnet.gluon.data.vision import transforms\n\nfrom gluoncv.data.transforms import video\nfrom gluoncv.data import Kinetics400\nfrom gluoncv.model_zoo import get_model\nfrom gluoncv.utils import makedirs, LRSequential, LRScheduler, split_and_load, TrainingHistory"
      ]
    },
    {
      "cell_type": "markdown",
      "metadata": {},
      "source": [
        "Here we pick a widely adopted model, ``SlowFast``, for the tutorial.\n`SlowFast <https://arxiv.org/abs/1812.03982>`_ is a new 3D video\nclassification model, aiming for best trade-off between accuracy and efficiency.\nIt proposes two branches, fast branch and slow branch, to handle different aspects in a video.\nFast branch is to capture motion dynamics by using many but small video frames.\nSlow branch is to capture fine apperance details by using few but large video frames.\nFeatures from two branches are combined using lateral connections.\n\n"
      ]
    },
    {
      "cell_type": "code",
      "execution_count": null,
      "metadata": {
        "collapsed": false
      },
      "outputs": [],
      "source": [
        "# number of GPUs to use\nnum_gpus = 1\nctx = [mx.gpu(i) for i in range(num_gpus)]\n\n# Get the model slowfast_4x16_resnet50_kinetics400 with 400 output classes, without pre-trained weights\nnet = get_model(name='slowfast_4x16_resnet50_kinetics400', nclass=400)\nnet.collect_params().reset_ctx(ctx)\nprint(net)"
      ]
    },
    {
      "cell_type": "markdown",
      "metadata": {},
      "source": [
        "Data Augmentation and Data Loader\n---------------------------------\n\nData augmentation for video is different from image. For example, if you\nwant to randomly crop a video sequence, you need to make sure all the video\nframes in this sequence undergo the same cropping process. We provide a\nnew set of transformation functions, working with multiple images.\nPlease checkout the `video.py <../../../gluoncv/data/transforms/video.py>`_ for more details.\nMost video data augmentation strategies used here are introduced in [Wang15]_.\n\n"
      ]
    },
    {
      "cell_type": "code",
      "execution_count": null,
      "metadata": {
        "collapsed": false
      },
      "outputs": [],
      "source": [
        "transform_train = transforms.Compose([\n    # Fix the input video frames size as 256\u00d7340 and randomly sample the cropping width and height from\n    # {256,224,192,168}. After that, resize the cropped regions to 224 \u00d7 224.\n    video.VideoMultiScaleCrop(size=(224, 224), scale_ratios=[1.0, 0.875, 0.75, 0.66]),\n    # Randomly flip the video frames horizontally\n    video.VideoRandomHorizontalFlip(),\n    # Transpose the video frames from height*width*num_channels to num_channels*height*width\n    # and map values from [0, 255] to [0,1]\n    video.VideoToTensor(),\n    # Normalize the video frames with mean and standard deviation calculated across all images\n    video.VideoNormalize([0.485, 0.456, 0.406], [0.229, 0.224, 0.225])\n])"
      ]
    },
    {
      "cell_type": "markdown",
      "metadata": {},
      "source": [
        "With the transform functions, we can define data loaders for our\ntraining datasets.\n\n"
      ]
    },
    {
      "cell_type": "code",
      "execution_count": null,
      "metadata": {
        "collapsed": false
      },
      "outputs": [],
      "source": [
        "# Batch Size for Each GPU\nper_device_batch_size = 5\n# Number of data loader workers\nnum_workers = 8\n# Calculate effective total batch size\nbatch_size = per_device_batch_size * num_gpus\n\n# Set train=True for training the model.\n# ``new_length`` indicates the number of frames we will cover.\n# For SlowFast network, we evenly sample 32 frames for the fast branch and 4 frames for the slow branch.\n# This leads to the actual input length of 36 video frames.\ntrain_dataset = Kinetics400(train=True, new_length=64, slowfast=True, transform=transform_train)\nprint('Load %d training samples.' % len(train_dataset))\ntrain_data = gluon.data.DataLoader(train_dataset, batch_size=batch_size,\n                                   shuffle=True, num_workers=num_workers)"
      ]
    },
    {
      "cell_type": "markdown",
      "metadata": {},
      "source": [
        "Optimizer, Loss and Metric\n--------------------------\n\n"
      ]
    },
    {
      "cell_type": "code",
      "execution_count": null,
      "metadata": {
        "collapsed": false
      },
      "outputs": [],
      "source": [
        "lr_decay = 0.1\nwarmup_epoch = 34\ntotal_epoch = 196\nnum_batches = len(train_data)\nlr_scheduler = LRSequential([\n    LRScheduler('linear', base_lr=0.01, target_lr=0.1,\n                nepochs=warmup_epoch, iters_per_epoch=num_batches),\n    LRScheduler('cosine', base_lr=0.1, target_lr=0,\n                nepochs=total_epoch - warmup_epoch,\n                iters_per_epoch=num_batches,\n                step_factor=lr_decay, power=2)\n])\n\n# Stochastic gradient descent\noptimizer = 'sgd'\n# Set parameters\noptimizer_params = {'learning_rate': 0.01, 'wd': 0.0001, 'momentum': 0.9}\noptimizer_params['lr_scheduler'] = lr_scheduler\n\n# Define our trainer for net\ntrainer = gluon.Trainer(net.collect_params(), optimizer, optimizer_params)"
      ]
    },
    {
      "cell_type": "markdown",
      "metadata": {},
      "source": [
        "In order to optimize our model, we need a loss function.\nFor classification tasks, we usually use softmax cross entropy as the\nloss function.\n\n"
      ]
    },
    {
      "cell_type": "code",
      "execution_count": null,
      "metadata": {
        "collapsed": false
      },
      "outputs": [],
      "source": [
        "loss_fn = gluon.loss.SoftmaxCrossEntropyLoss()"
      ]
    },
    {
      "cell_type": "markdown",
      "metadata": {},
      "source": [
        "For simplicity, we use accuracy as the metric to monitor our training\nprocess. Besides, we record metric values, and will print them at the\nend of training.\n\n"
      ]
    },
    {
      "cell_type": "code",
      "execution_count": null,
      "metadata": {
        "collapsed": false
      },
      "outputs": [],
      "source": [
        "train_metric = mx.metric.Accuracy()\ntrain_history = TrainingHistory(['training-acc'])"
      ]
    },
    {
      "cell_type": "markdown",
      "metadata": {},
      "source": [
        "Training\n--------\n\nAfter all the preparations, we can finally start training!\nFollowing is the script.\n\n<div class=\"alert alert-info\"><h4>Note</h4><p>In order to finish the tutorial quickly, we only train for 3 epochs on a tiny subset of Kinetics400,\n  and 100 iterations per epoch. In your experiments, we recommend setting ``epochs=100`` for the full Kinetics400 dataset.</p></div>\n\n"
      ]
    },
    {
      "cell_type": "code",
      "execution_count": null,
      "metadata": {
        "collapsed": false
      },
      "outputs": [],
      "source": [
        "epochs = 3\n\nfor epoch in range(epochs):\n    tic = time.time()\n    train_metric.reset()\n    train_loss = 0\n\n    # Loop through each batch of training data\n    for i, batch in enumerate(train_data):\n        # Extract data and label\n        data = split_and_load(batch[0], ctx_list=ctx, batch_axis=0)\n        label = split_and_load(batch[1], ctx_list=ctx, batch_axis=0)\n\n        # AutoGrad\n        with ag.record():\n            output = []\n            for _, X in enumerate(data):\n                X = X.reshape((-1,) + X.shape[2:])\n                pred = net(X)\n                output.append(pred)\n            loss = [loss_fn(yhat, y) for yhat, y in zip(output, label)]\n\n        # Backpropagation\n        for l in loss:\n            l.backward()\n\n        # Optimize\n        trainer.step(batch_size)\n\n        # Update metrics\n        train_loss += sum([l.mean().asscalar() for l in loss])\n        train_metric.update(label, output)\n\n        if i == 100:\n            break\n\n    name, acc = train_metric.get()\n\n    # Update history and print metrics\n    train_history.update([acc])\n    print('[Epoch %d] train=%f loss=%f time: %f' %\n        (epoch, acc, train_loss / (i+1), time.time()-tic))\n\n# We can plot the metric scores with:\ntrain_history.plot()"
      ]
    },
    {
      "cell_type": "markdown",
      "metadata": {},
      "source": [
        "Due to the tiny subset, the accuracy number is quite low.\nYou can `Start Training Now`_ on the full Kinetics400 dataset.\n\nReferences\n----------\n\n.. [Wang15] Limin Wang, Yuanjun Xiong, Zhe Wang, and Yu Qiao. \\\n    \"Towards Good Practices for Very Deep Two-Stream ConvNets.\" \\\n    arXiv preprint arXiv:1507.02159 (2015).\n\n"
      ]
    }
  ],
  "metadata": {
    "kernelspec": {
      "display_name": "Python 3",
      "language": "python",
      "name": "python3"
    },
    "language_info": {
      "codemirror_mode": {
        "name": "ipython",
        "version": 3
      },
      "file_extension": ".py",
      "mimetype": "text/x-python",
      "name": "python",
      "nbconvert_exporter": "python",
      "pygments_lexer": "ipython3",
      "version": "3.7.5"
    }
  },
  "nbformat": 4,
  "nbformat_minor": 0
}